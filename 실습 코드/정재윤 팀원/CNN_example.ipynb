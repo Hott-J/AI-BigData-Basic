{
  "nbformat": 4,
  "nbformat_minor": 0,
  "metadata": {
    "accelerator": "GPU",
    "colab": {
      "name": "Untitled1.ipynb",
      "provenance": []
    },
    "kernelspec": {
      "display_name": "Python 3",
      "name": "python3"
    }
  },
  "cells": [
    {
      "cell_type": "code",
      "metadata": {
        "id": "Ol0hANk0Ri7Z"
      },
      "source": [
        "# 필요한 라이브러리 불러오기\n",
        "import matplotlib.pyplot as plot\n",
        "from keras.datasets import mnist\n",
        "import tensorflow as tf\n",
        "import keras\n",
        "import tensorflow.keras.layers as Layers\n",
        "import tensorflow.keras.activations as Actications\n",
        "import tensorflow.keras.models as Models\n",
        "import tensorflow.keras.optimizers as Optimizer\n",
        "import tensorflow.keras.metrics as Metrics\n",
        "import tensorflow.keras.utils as Utils\n",
        "from keras.utils import to_categorical\n",
        "from IPython.display import SVG\n",
        "from keras.utils.vis_utils import model_to_dot\n",
        "import numpy as np\n",
        "from keras.utils import np_utils"
      ],
      "execution_count": null,
      "outputs": []
    },
    {
      "cell_type": "code",
      "metadata": {
        "colab": {
          "base_uri": "https://localhost:8080/"
        },
        "id": "ODq5uMkhWXyp",
        "outputId": "73cd27a2-4aea-4cbc-bf4d-af695d507e97"
      },
      "source": [
        "# 이미지 받아오기\n",
        "(x_train, y_train), (x_test, y_test ) = mnist.load_data()\n",
        "x_train = x_train.reshape(x_train.shape[0], 28, 28, 1).astype('float32')/255.0\n",
        "x_test = x_test.reshape(x_test.shape[0], 28, 28, 1).astype('float32')/255.0\n",
        "\n",
        "y_train = keras.utils.to_categorical(y_train)\n",
        "y_test = keras.utils.to_categorical(y_test)\n",
        "\n",
        "print('x_train shape:', x_train.shape)\n",
        "print('y_train shape:', y_train.shape)"
      ],
      "execution_count": null,
      "outputs": [
        {
          "output_type": "stream",
          "text": [
            "x_train shape: (60000, 28, 28, 1)\n",
            "y_train shape: (60000, 10)\n"
          ],
          "name": "stdout"
        }
      ]
    },
    {
      "cell_type": "code",
      "metadata": {
        "colab": {
          "base_uri": "https://localhost:8080/"
        },
        "id": "pXVi_7e0Qulz",
        "outputId": "55edad79-dba8-4e63-c31d-366047d83af4"
      },
      "source": [
        "#커스텀 조금 깊은 CNN 및 batch normalization 추가\n",
        "\n",
        "#모델 정의\n",
        "model_2 = Models.Sequential()\n",
        "\n",
        "#합성곱층 Conv2D(합성곱커널개수, 합성곱커널크기(높이,너비) - 3*3, 5*5를 많이 사용함,\n",
        "#               매개변수에 렐루,패딩(없으면 기본값), 이미지의 높이, 너비, 컬러채널)\n",
        "model_2.add(Layers.Conv2D(32, kernel_size=(3,3), input_shape = (28,28,1), activation='relu'))\n",
        "model_2.add(Layers.Conv2D(64, kernel_size=(3,3),activation='relu'))\n",
        "\n",
        "#풀링층(풀링의 (높이,너비), 스트라이드(없으면 기본값), 패딩(없으면 기본값)\n",
        "model_2.add(Layers.MaxPool2D(pool_size = 2))\n",
        "model_2.add(Layers.BatchNormalization()) #배치노멀리제이션 추가\n",
        "model_2.add(Layers.Dropout(rate = 0.25)) #드롭아웃 추가\n",
        "\n",
        "#완전 연결층에 연결하기 위해 Flatten 클래스를 수행해 배치 차원을 제외하고 일렬로 펼침 (2차원->1차원)\n",
        "model_2.add(Layers.Flatten())\n",
        "\n",
        "#마지막으로 완전 연결층을 추가(x개의 뉴런 사용, 렐루 활성화 함수 적용)\n",
        "model_2.add(Layers.Dense(128, activation = 'relu'))\n",
        "\n",
        "#맨 마지막에 클래스에 대응하는 개수의 뉴런 사용 및 소프트맥스 활성화 함수 적용\n",
        "model_2.add(Layers.Dense(10, activation='softmax'))\n",
        "\n",
        "#모델 컴파일(아담 옵티마이저, 정확도 관찰 위한 metrics에 accuracy), 옵티마이저 바꿔보기?\n",
        "#compile() : 모델을 기계가 이해할 수 있도록 컴파일 합니다. 오차 함수와 최적화 방법, 메트릭 함수를 선택할 수 있습니다.\n",
        "model_2.compile(loss='categorical_crossentropy', optimizer = 'adam', metrics=['accuracy'])\n",
        "\n",
        "#모델 서머리 = 모델 구조 살펴보기\n",
        "model_2.summary()"
      ],
      "execution_count": null,
      "outputs": [
        {
          "output_type": "stream",
          "text": [
            "Model: \"sequential_1\"\n",
            "_________________________________________________________________\n",
            "Layer (type)                 Output Shape              Param #   \n",
            "=================================================================\n",
            "conv2d_2 (Conv2D)            (None, 26, 26, 32)        320       \n",
            "_________________________________________________________________\n",
            "conv2d_3 (Conv2D)            (None, 24, 24, 64)        18496     \n",
            "_________________________________________________________________\n",
            "max_pooling2d_1 (MaxPooling2 (None, 12, 12, 64)        0         \n",
            "_________________________________________________________________\n",
            "batch_normalization (BatchNo (None, 12, 12, 64)        256       \n",
            "_________________________________________________________________\n",
            "dropout (Dropout)            (None, 12, 12, 64)        0         \n",
            "_________________________________________________________________\n",
            "flatten (Flatten)            (None, 9216)              0         \n",
            "_________________________________________________________________\n",
            "dense (Dense)                (None, 128)               1179776   \n",
            "_________________________________________________________________\n",
            "dense_1 (Dense)              (None, 10)                1290      \n",
            "=================================================================\n",
            "Total params: 1,200,138\n",
            "Trainable params: 1,200,010\n",
            "Non-trainable params: 128\n",
            "_________________________________________________________________\n"
          ],
          "name": "stdout"
        }
      ]
    },
    {
      "cell_type": "markdown",
      "metadata": {
        "id": "IsmHrVinSi14"
      },
      "source": [
        "드롭아웃, 배치노멀리제이션은 오버피팅을 방지"
      ]
    },
    {
      "cell_type": "code",
      "metadata": {
        "colab": {
          "background_save": true,
          "base_uri": "https://localhost:8080/"
        },
        "id": "qo0aWTbHT0RS",
        "outputId": "7007c654-cad2-4faf-c6d8-d5fbc00a4c93"
      },
      "source": [
        "# fit() 메서드로 모델 훈련 시키기\n",
        "trained = model_2.fit(x_train, y_train, epochs=20, batch_size = 128, verbose = 1, validation_split=0.30)"
      ],
      "execution_count": null,
      "outputs": [
        {
          "output_type": "stream",
          "text": [
            "Epoch 1/20\n",
            "329/329 [==============================] - 103s 313ms/step - loss: 0.2199 - accuracy: 0.9329 - val_loss: 0.0817 - val_accuracy: 0.9761\n",
            "Epoch 2/20\n",
            "329/329 [==============================] - 103s 312ms/step - loss: 0.0581 - accuracy: 0.9816 - val_loss: 0.0563 - val_accuracy: 0.9835\n",
            "Epoch 3/20\n",
            "329/329 [==============================] - 102s 311ms/step - loss: 0.0363 - accuracy: 0.9890 - val_loss: 0.0520 - val_accuracy: 0.9834\n",
            "Epoch 4/20\n",
            "329/329 [==============================] - 103s 312ms/step - loss: 0.0260 - accuracy: 0.9919 - val_loss: 0.0449 - val_accuracy: 0.9879\n",
            "Epoch 5/20\n",
            "329/329 [==============================] - 103s 312ms/step - loss: 0.0187 - accuracy: 0.9940 - val_loss: 0.0441 - val_accuracy: 0.9889\n",
            "Epoch 6/20\n",
            "329/329 [==============================] - 102s 311ms/step - loss: 0.0149 - accuracy: 0.9948 - val_loss: 0.0478 - val_accuracy: 0.9874\n",
            "Epoch 7/20\n",
            "329/329 [==============================] - 102s 310ms/step - loss: 0.0135 - accuracy: 0.9952 - val_loss: 0.0487 - val_accuracy: 0.9878\n",
            "Epoch 8/20\n",
            "329/329 [==============================] - 103s 312ms/step - loss: 0.0086 - accuracy: 0.9971 - val_loss: 0.0484 - val_accuracy: 0.9881\n",
            "Epoch 9/20\n",
            "329/329 [==============================] - 101s 306ms/step - loss: 0.0088 - accuracy: 0.9970 - val_loss: 0.0577 - val_accuracy: 0.9860\n",
            "Epoch 10/20\n",
            "329/329 [==============================] - 100s 305ms/step - loss: 0.0081 - accuracy: 0.9974 - val_loss: 0.0556 - val_accuracy: 0.9878\n",
            "Epoch 11/20\n",
            "329/329 [==============================] - 101s 306ms/step - loss: 0.0067 - accuracy: 0.9977 - val_loss: 0.0654 - val_accuracy: 0.9847\n",
            "Epoch 12/20\n",
            "329/329 [==============================] - 101s 306ms/step - loss: 0.0063 - accuracy: 0.9979 - val_loss: 0.0532 - val_accuracy: 0.9886\n",
            "Epoch 13/20\n",
            "329/329 [==============================] - 100s 305ms/step - loss: 0.0078 - accuracy: 0.9972 - val_loss: 0.0623 - val_accuracy: 0.9873\n",
            "Epoch 14/20\n",
            "329/329 [==============================] - 100s 305ms/step - loss: 0.0036 - accuracy: 0.9989 - val_loss: 0.0592 - val_accuracy: 0.9879\n",
            "Epoch 15/20\n",
            "329/329 [==============================] - 100s 305ms/step - loss: 0.0053 - accuracy: 0.9983 - val_loss: 0.0688 - val_accuracy: 0.9872\n",
            "Epoch 16/20\n",
            "329/329 [==============================] - 100s 305ms/step - loss: 0.0059 - accuracy: 0.9977 - val_loss: 0.0584 - val_accuracy: 0.9894\n",
            "Epoch 17/20\n",
            "329/329 [==============================] - 100s 304ms/step - loss: 0.0039 - accuracy: 0.9988 - val_loss: 0.0670 - val_accuracy: 0.9871\n",
            "Epoch 18/20\n",
            "329/329 [==============================] - 100s 305ms/step - loss: 0.0039 - accuracy: 0.9988 - val_loss: 0.0585 - val_accuracy: 0.9880\n",
            "Epoch 19/20\n",
            "329/329 [==============================] - 100s 305ms/step - loss: 0.0053 - accuracy: 0.9982 - val_loss: 0.0599 - val_accuracy: 0.9883\n",
            "Epoch 20/20\n",
            "329/329 [==============================] - 100s 305ms/step - loss: 0.0039 - accuracy: 0.9986 - val_loss: 0.0754 - val_accuracy: 0.9857\n"
          ],
          "name": "stdout"
        }
      ]
    },
    {
      "cell_type": "code",
      "metadata": {
        "colab": {
          "base_uri": "https://localhost:8080/",
          "height": 573
        },
        "id": "XBQEVUCkSld-",
        "outputId": "45d4237f-a9a6-46a2-febc-05f075528c9d"
      },
      "source": [
        "plot.plot(trained.history['accuracy'])\n",
        "plot.plot(trained.history['val_accuracy'])\n",
        "plot.title('Model accuracy')\n",
        "plot.ylabel('Accuracy')\n",
        "plot.xlabel('Epoch')\n",
        "plot.legend(['Train', 'Test'], loc='upper left')\n",
        "plot.show()\n",
        "\n",
        "plot.plot(trained.history['loss'])\n",
        "plot.plot(trained.history['val_loss'])\n",
        "plot.title('Model loss')\n",
        "plot.ylabel('Loss')\n",
        "plot.xlabel('Epoch')\n",
        "plot.legend(['Train', 'Test'], loc='upper left')\n",
        "plot.show()"
      ],
      "execution_count": null,
      "outputs": [
        {
          "output_type": "display_data",
          "data": {
            "image/png": "[encoded data removed]",
            "text/plain": [
              "<Figure size 432x288 with 1 Axes>"
            ]
          },
          "metadata": {
            "tags": []
          }
        },
        {
          "output_type": "display_data",
          "data": {
            "image/png": "[encoded data removed]",
            "text/plain": [
              "<Figure size 432x288 with 1 Axes>"
            ]
          },
          "metadata": {
            "tags": []
          }
        }
      ]
    },
    {
      "cell_type": "code",
      "metadata": {
        "colab": {
          "base_uri": "https://localhost:8080/"
        },
        "id": "KHY1wlcXT6jr",
        "outputId": "d84bd39f-c298-4710-a9ee-b3d37e671b82"
      },
      "source": [
        "# 테스트 데이터로 정확도 측정하기\n",
        "test_loss, test_acc = model_2.evaluate(x_test, y_test)\n",
        "print('test_acc: ', test_acc)"
      ],
      "execution_count": null,
      "outputs": [
        {
          "output_type": "stream",
          "text": [
            "313/313 [==============================] - 1s 2ms/step - loss: 0.1000 - accuracy: 0.9872\n",
            "test_acc:  0.9872000217437744\n"
          ],
          "name": "stdout"
        }
      ]
    }
  ]
}